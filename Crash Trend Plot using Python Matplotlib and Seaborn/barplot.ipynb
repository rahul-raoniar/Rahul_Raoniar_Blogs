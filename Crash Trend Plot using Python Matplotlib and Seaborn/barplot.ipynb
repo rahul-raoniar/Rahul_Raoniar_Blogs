{
 "cells": [
  {
   "cell_type": "code",
   "execution_count": 14,
   "metadata": {},
   "outputs": [],
   "source": [
    "import numpy as np\n",
    "import pandas as pd\n",
    "import matplotlib.pyplot as plt\n",
    "import seaborn as sns"
   ]
  },
  {
   "cell_type": "code",
   "execution_count": 15,
   "metadata": {},
   "outputs": [
    {
     "data": {
      "text/html": [
       "<div>\n",
       "<style scoped>\n",
       "    .dataframe tbody tr th:only-of-type {\n",
       "        vertical-align: middle;\n",
       "    }\n",
       "\n",
       "    .dataframe tbody tr th {\n",
       "        vertical-align: top;\n",
       "    }\n",
       "\n",
       "    .dataframe thead th {\n",
       "        text-align: right;\n",
       "    }\n",
       "</style>\n",
       "<table border=\"1\" class=\"dataframe\">\n",
       "  <thead>\n",
       "    <tr style=\"text-align: right;\">\n",
       "      <th></th>\n",
       "      <th>year</th>\n",
       "      <th>fatal_killed</th>\n",
       "      <th>grevious_injured</th>\n",
       "      <th>minor_injured</th>\n",
       "      <th>without_injury</th>\n",
       "    </tr>\n",
       "  </thead>\n",
       "  <tbody>\n",
       "    <tr>\n",
       "      <th>0</th>\n",
       "      <td>2012</td>\n",
       "      <td>25</td>\n",
       "      <td>130</td>\n",
       "      <td>178</td>\n",
       "      <td>150</td>\n",
       "    </tr>\n",
       "    <tr>\n",
       "      <th>1</th>\n",
       "      <td>2013</td>\n",
       "      <td>46</td>\n",
       "      <td>132</td>\n",
       "      <td>147</td>\n",
       "      <td>141</td>\n",
       "    </tr>\n",
       "    <tr>\n",
       "      <th>2</th>\n",
       "      <td>2014</td>\n",
       "      <td>71</td>\n",
       "      <td>151</td>\n",
       "      <td>144</td>\n",
       "      <td>123</td>\n",
       "    </tr>\n",
       "    <tr>\n",
       "      <th>3</th>\n",
       "      <td>2015</td>\n",
       "      <td>52</td>\n",
       "      <td>155</td>\n",
       "      <td>168</td>\n",
       "      <td>132</td>\n",
       "    </tr>\n",
       "    <tr>\n",
       "      <th>4</th>\n",
       "      <td>2016</td>\n",
       "      <td>63</td>\n",
       "      <td>178</td>\n",
       "      <td>151</td>\n",
       "      <td>171</td>\n",
       "    </tr>\n",
       "  </tbody>\n",
       "</table>\n",
       "</div>"
      ],
      "text/plain": [
       "   year  fatal_killed  grevious_injured  minor_injured  without_injury\n",
       "0  2012            25               130            178             150\n",
       "1  2013            46               132            147             141\n",
       "2  2014            71               151            144             123\n",
       "3  2015            52               155            168             132\n",
       "4  2016            63               178            151             171"
      ]
     },
     "execution_count": 15,
     "metadata": {},
     "output_type": "execute_result"
    }
   ],
   "source": [
    "crash_data = pd.read_csv(\"crash_data.csv\")\n",
    "crash_data.head()"
   ]
  },
  {
   "cell_type": "code",
   "execution_count": 16,
   "metadata": {},
   "outputs": [
    {
     "data": {
      "text/plain": [
       "['year', 'fatal_killed', 'grevious_injured', 'minor_injured', 'without_injury']"
      ]
     },
     "execution_count": 16,
     "metadata": {},
     "output_type": "execute_result"
    }
   ],
   "source": [
    "crash_data.columns.to_list()"
   ]
  },
  {
   "cell_type": "code",
   "execution_count": 17,
   "metadata": {},
   "outputs": [
    {
     "data": {
      "text/html": [
       "<div>\n",
       "<style scoped>\n",
       "    .dataframe tbody tr th:only-of-type {\n",
       "        vertical-align: middle;\n",
       "    }\n",
       "\n",
       "    .dataframe tbody tr th {\n",
       "        vertical-align: top;\n",
       "    }\n",
       "\n",
       "    .dataframe thead th {\n",
       "        text-align: right;\n",
       "    }\n",
       "</style>\n",
       "<table border=\"1\" class=\"dataframe\">\n",
       "  <thead>\n",
       "    <tr style=\"text-align: right;\">\n",
       "      <th></th>\n",
       "      <th>year</th>\n",
       "      <th>Fatal</th>\n",
       "      <th>Greviously Injured</th>\n",
       "      <th>Minor Injury</th>\n",
       "      <th>Without Injury</th>\n",
       "    </tr>\n",
       "  </thead>\n",
       "  <tbody>\n",
       "    <tr>\n",
       "      <th>0</th>\n",
       "      <td>2012</td>\n",
       "      <td>25</td>\n",
       "      <td>130</td>\n",
       "      <td>178</td>\n",
       "      <td>150</td>\n",
       "    </tr>\n",
       "    <tr>\n",
       "      <th>1</th>\n",
       "      <td>2013</td>\n",
       "      <td>46</td>\n",
       "      <td>132</td>\n",
       "      <td>147</td>\n",
       "      <td>141</td>\n",
       "    </tr>\n",
       "    <tr>\n",
       "      <th>2</th>\n",
       "      <td>2014</td>\n",
       "      <td>71</td>\n",
       "      <td>151</td>\n",
       "      <td>144</td>\n",
       "      <td>123</td>\n",
       "    </tr>\n",
       "    <tr>\n",
       "      <th>3</th>\n",
       "      <td>2015</td>\n",
       "      <td>52</td>\n",
       "      <td>155</td>\n",
       "      <td>168</td>\n",
       "      <td>132</td>\n",
       "    </tr>\n",
       "    <tr>\n",
       "      <th>4</th>\n",
       "      <td>2016</td>\n",
       "      <td>63</td>\n",
       "      <td>178</td>\n",
       "      <td>151</td>\n",
       "      <td>171</td>\n",
       "    </tr>\n",
       "  </tbody>\n",
       "</table>\n",
       "</div>"
      ],
      "text/plain": [
       "   year  Fatal  Greviously Injured  Minor Injury  Without Injury\n",
       "0  2012     25                 130           178             150\n",
       "1  2013     46                 132           147             141\n",
       "2  2014     71                 151           144             123\n",
       "3  2015     52                 155           168             132\n",
       "4  2016     63                 178           151             171"
      ]
     },
     "execution_count": 17,
     "metadata": {},
     "output_type": "execute_result"
    }
   ],
   "source": [
    "crash_data.rename(columns = {\n",
    "                     \"fatal_killed\":\"Fatal\",\n",
    "                     \"grevious_injured\":\"Greviously Injured\",\n",
    "                     \"minor_injured\": \"Minor Injury\",\n",
    "                     \"without_injury\": \"Without Injury\"}, \n",
    "          inplace=True)\n",
    "\n",
    "crash_data.head()"
   ]
  },
  {
   "cell_type": "code",
   "execution_count": 18,
   "metadata": {},
   "outputs": [
    {
     "data": {
      "text/html": [
       "<div>\n",
       "<style scoped>\n",
       "    .dataframe tbody tr th:only-of-type {\n",
       "        vertical-align: middle;\n",
       "    }\n",
       "\n",
       "    .dataframe tbody tr th {\n",
       "        vertical-align: top;\n",
       "    }\n",
       "\n",
       "    .dataframe thead th {\n",
       "        text-align: right;\n",
       "    }\n",
       "</style>\n",
       "<table border=\"1\" class=\"dataframe\">\n",
       "  <thead>\n",
       "    <tr style=\"text-align: right;\">\n",
       "      <th></th>\n",
       "      <th>year</th>\n",
       "      <th>variable</th>\n",
       "      <th>value</th>\n",
       "    </tr>\n",
       "  </thead>\n",
       "  <tbody>\n",
       "    <tr>\n",
       "      <th>0</th>\n",
       "      <td>2012</td>\n",
       "      <td>Fatal</td>\n",
       "      <td>25</td>\n",
       "    </tr>\n",
       "    <tr>\n",
       "      <th>1</th>\n",
       "      <td>2013</td>\n",
       "      <td>Fatal</td>\n",
       "      <td>46</td>\n",
       "    </tr>\n",
       "    <tr>\n",
       "      <th>2</th>\n",
       "      <td>2014</td>\n",
       "      <td>Fatal</td>\n",
       "      <td>71</td>\n",
       "    </tr>\n",
       "    <tr>\n",
       "      <th>3</th>\n",
       "      <td>2015</td>\n",
       "      <td>Fatal</td>\n",
       "      <td>52</td>\n",
       "    </tr>\n",
       "  </tbody>\n",
       "</table>\n",
       "</div>"
      ],
      "text/plain": [
       "   year variable  value\n",
       "0  2012    Fatal     25\n",
       "1  2013    Fatal     46\n",
       "2  2014    Fatal     71\n",
       "3  2015    Fatal     52"
      ]
     },
     "execution_count": 18,
     "metadata": {},
     "output_type": "execute_result"
    }
   ],
   "source": [
    "crash_data = pd.melt(crash_data, id_vars=['year'], value_vars=['Fatal',\n",
    "                                          'Greviously Injured', 'Minor Injury',\n",
    "                                          'Without Injury'])\n",
    "\n",
    "crash_data.head(4)"
   ]
  },
  {
   "cell_type": "code",
   "execution_count": 19,
   "metadata": {},
   "outputs": [
    {
     "data": {
      "text/html": [
       "<div>\n",
       "<style scoped>\n",
       "    .dataframe tbody tr th:only-of-type {\n",
       "        vertical-align: middle;\n",
       "    }\n",
       "\n",
       "    .dataframe tbody tr th {\n",
       "        vertical-align: top;\n",
       "    }\n",
       "\n",
       "    .dataframe thead th {\n",
       "        text-align: right;\n",
       "    }\n",
       "</style>\n",
       "<table border=\"1\" class=\"dataframe\">\n",
       "  <thead>\n",
       "    <tr style=\"text-align: right;\">\n",
       "      <th></th>\n",
       "      <th>Year</th>\n",
       "      <th>Crash Type</th>\n",
       "      <th>Crash Count</th>\n",
       "    </tr>\n",
       "  </thead>\n",
       "  <tbody>\n",
       "    <tr>\n",
       "      <th>0</th>\n",
       "      <td>2012</td>\n",
       "      <td>Fatal</td>\n",
       "      <td>25</td>\n",
       "    </tr>\n",
       "    <tr>\n",
       "      <th>1</th>\n",
       "      <td>2013</td>\n",
       "      <td>Fatal</td>\n",
       "      <td>46</td>\n",
       "    </tr>\n",
       "    <tr>\n",
       "      <th>2</th>\n",
       "      <td>2014</td>\n",
       "      <td>Fatal</td>\n",
       "      <td>71</td>\n",
       "    </tr>\n",
       "    <tr>\n",
       "      <th>3</th>\n",
       "      <td>2015</td>\n",
       "      <td>Fatal</td>\n",
       "      <td>52</td>\n",
       "    </tr>\n",
       "    <tr>\n",
       "      <th>4</th>\n",
       "      <td>2016</td>\n",
       "      <td>Fatal</td>\n",
       "      <td>63</td>\n",
       "    </tr>\n",
       "  </tbody>\n",
       "</table>\n",
       "</div>"
      ],
      "text/plain": [
       "   Year Crash Type  Crash Count\n",
       "0  2012      Fatal           25\n",
       "1  2013      Fatal           46\n",
       "2  2014      Fatal           71\n",
       "3  2015      Fatal           52\n",
       "4  2016      Fatal           63"
      ]
     },
     "execution_count": 19,
     "metadata": {},
     "output_type": "execute_result"
    }
   ],
   "source": [
    "crash_data.rename(columns = {\"year\":\"Year\",\n",
    "                     \"variable\":\"Crash Type\",\n",
    "                     \"value\":\"Crash Count\"}, \n",
    "          inplace=True) #supports inplace = True\n",
    "crash_data.head()"
   ]
  },
  {
   "cell_type": "code",
   "execution_count": 20,
   "metadata": {},
   "outputs": [
    {
     "data": {
      "text/plain": [
       "Text(0.5, 1.05, 'Crash Trend (2012-2022)')"
      ]
     },
     "execution_count": 20,
     "metadata": {},
     "output_type": "execute_result"
    },
    {
     "data": {
      "image/png": "[encoded data removed]",
      "text/plain": [
       "<Figure size 1000x600 with 1 Axes>"
      ]
     },
     "metadata": {},
     "output_type": "display_data"
    }
   ],
   "source": [
    "fig, ax = plt.subplots(figsize=(10, 6))\n",
    "\n",
    "color = [\"red\", \"orange\", \"yellow\", \"#a3ff00\"]\n",
    "# sns.set_palette(color)\n",
    "\n",
    "sns.barplot(data = crash_data,\n",
    "            x = \"Year\",\n",
    "            y = \"Crash Count\",\n",
    "            hue = \"Crash Type\",\n",
    "            ax = ax,\n",
    "            palette = sns.color_palette(color)\n",
    ")\n",
    "\n",
    "# Retrieve axis and fig objects from the current plot environment\n",
    "# Adding bar labels\n",
    "\n",
    "for p in ax.patches:\n",
    "    p.set_edgecolor(\"black\") # Add black border across all bars\n",
    "    t = ax.annotate(str(np.int64(p.get_height())), xy = (p.get_x() + 0.03, p.get_height() + 7))\n",
    "    t.set(size = 8, rotation=90)\n",
    "\n",
    "# Remove spines\n",
    "for s in [\"top\", \"right\"]:\n",
    "    ax.spines[s].set_visible(False)\n",
    "\n",
    "# Adding axes labels and tick parameters\n",
    "ax.set_xlabel(\"Year\", size = 14)\n",
    "ax.set_ylabel(\"Count\", size = 14)\n",
    "ax.tick_params(labelsize = 12)\n",
    "\n",
    "# Legend customisation\n",
    "ax.legend(fontsize = 11,\n",
    "          title = \"Crash Type\",\n",
    "          title_fontsize = 12)\n",
    "\n",
    "ax.set_title(\"Crash Trend (2012-2022)\",\n",
    "             fontsize = 14,\n",
    "             y = 1.05)\n"
   ]
  },
  {
   "cell_type": "code",
   "execution_count": 21,
   "metadata": {},
   "outputs": [],
   "source": [
    "fig.savefig('crash_plot.png', dpi = 300, bbox_inches = 'tight')"
   ]
  },
  {
   "cell_type": "code",
   "execution_count": null,
   "metadata": {},
   "outputs": [],
   "source": []
  },
  {
   "cell_type": "code",
   "execution_count": null,
   "metadata": {},
   "outputs": [],
   "source": []
  },
  {
   "cell_type": "code",
   "execution_count": null,
   "metadata": {},
   "outputs": [],
   "source": []
  }
 ],
 "metadata": {
  "kernelspec": {
   "display_name": "datascience",
   "language": "python",
   "name": "python3"
  },
  "language_info": {
   "codemirror_mode": {
    "name": "ipython",
    "version": 3
   },
   "file_extension": ".py",
   "mimetype": "text/x-python",
   "name": "python",
   "nbconvert_exporter": "python",
   "pygments_lexer": "ipython3",
   "version": "3.9.16"
  },
  "orig_nbformat": 4,
  "vscode": {
   "interpreter": {
    "hash": "5ab12d8b89b756ee94f665fc2a248c025d04e604006ace26943ffa19d60f5892"
   }
  }
 },
 "nbformat": 4,
 "nbformat_minor": 2
}
