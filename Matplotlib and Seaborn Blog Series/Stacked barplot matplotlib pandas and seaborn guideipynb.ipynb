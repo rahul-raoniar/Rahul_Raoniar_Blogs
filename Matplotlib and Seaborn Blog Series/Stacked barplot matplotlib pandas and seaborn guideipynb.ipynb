{
 "cells": [
  {
   "cell_type": "markdown",
   "metadata": {},
   "source": [
    "## Table of content for blog series\n",
    "\n",
    "* **`Importing libraries`**\n",
    "* **`Bar plot`**\n",
    "    * Basics of barplot\n",
    "    * Stacked barplot\n",
    "        * Stacked barplot [`matplotlib style`]\n",
    "        * Stacked barplot [`pandas and matplotlib style`]"
   ]
  },
  {
   "cell_type": "markdown",
   "metadata": {},
   "source": [
    "### Loading libraries"
   ]
  },
  {
   "cell_type": "code",
   "execution_count": 32,
   "metadata": {},
   "outputs": [],
   "source": [
    "import numpy as np\n",
    "import pandas as pd\n",
    "import matplotlib.pyplot as plt\n",
    "import seaborn as sns"
   ]
  },
  {
   "cell_type": "code",
   "execution_count": 33,
   "metadata": {},
   "outputs": [
    {
     "data": {
      "text/html": [
       "<div>\n",
       "<style scoped>\n",
       "    .dataframe tbody tr th:only-of-type {\n",
       "        vertical-align: middle;\n",
       "    }\n",
       "\n",
       "    .dataframe tbody tr th {\n",
       "        vertical-align: top;\n",
       "    }\n",
       "\n",
       "    .dataframe thead th {\n",
       "        text-align: right;\n",
       "    }\n",
       "</style>\n",
       "<table border=\"1\" class=\"dataframe\">\n",
       "  <thead>\n",
       "    <tr style=\"text-align: right;\">\n",
       "      <th></th>\n",
       "      <th>total_bill</th>\n",
       "      <th>tip</th>\n",
       "      <th>sex</th>\n",
       "      <th>smoker</th>\n",
       "      <th>day</th>\n",
       "      <th>time</th>\n",
       "      <th>size</th>\n",
       "    </tr>\n",
       "  </thead>\n",
       "  <tbody>\n",
       "    <tr>\n",
       "      <th>0</th>\n",
       "      <td>16.99</td>\n",
       "      <td>1.01</td>\n",
       "      <td>Female</td>\n",
       "      <td>No</td>\n",
       "      <td>Sun</td>\n",
       "      <td>Dinner</td>\n",
       "      <td>2</td>\n",
       "    </tr>\n",
       "    <tr>\n",
       "      <th>1</th>\n",
       "      <td>10.34</td>\n",
       "      <td>1.66</td>\n",
       "      <td>Male</td>\n",
       "      <td>No</td>\n",
       "      <td>Sun</td>\n",
       "      <td>Dinner</td>\n",
       "      <td>3</td>\n",
       "    </tr>\n",
       "    <tr>\n",
       "      <th>2</th>\n",
       "      <td>21.01</td>\n",
       "      <td>3.50</td>\n",
       "      <td>Male</td>\n",
       "      <td>No</td>\n",
       "      <td>Sun</td>\n",
       "      <td>Dinner</td>\n",
       "      <td>3</td>\n",
       "    </tr>\n",
       "    <tr>\n",
       "      <th>3</th>\n",
       "      <td>23.68</td>\n",
       "      <td>3.31</td>\n",
       "      <td>Male</td>\n",
       "      <td>No</td>\n",
       "      <td>Sun</td>\n",
       "      <td>Dinner</td>\n",
       "      <td>2</td>\n",
       "    </tr>\n",
       "  </tbody>\n",
       "</table>\n",
       "</div>"
      ],
      "text/plain": [
       "   total_bill   tip     sex smoker  day    time  size\n",
       "0       16.99  1.01  Female     No  Sun  Dinner     2\n",
       "1       10.34  1.66    Male     No  Sun  Dinner     3\n",
       "2       21.01  3.50    Male     No  Sun  Dinner     3\n",
       "3       23.68  3.31    Male     No  Sun  Dinner     2"
      ]
     },
     "execution_count": 33,
     "metadata": {},
     "output_type": "execute_result"
    }
   ],
   "source": [
    "tips = pd.read_csv(\"datasets/tips.csv\")\n",
    "tips.head(4)"
   ]
  },
  {
   "cell_type": "markdown",
   "metadata": {},
   "source": [
    "### Data preparation"
   ]
  },
  {
   "cell_type": "code",
   "execution_count": 34,
   "metadata": {},
   "outputs": [
    {
     "data": {
      "text/html": [
       "<div>\n",
       "<style scoped>\n",
       "    .dataframe tbody tr th:only-of-type {\n",
       "        vertical-align: middle;\n",
       "    }\n",
       "\n",
       "    .dataframe tbody tr th {\n",
       "        vertical-align: top;\n",
       "    }\n",
       "\n",
       "    .dataframe thead th {\n",
       "        text-align: right;\n",
       "    }\n",
       "</style>\n",
       "<table border=\"1\" class=\"dataframe\">\n",
       "  <thead>\n",
       "    <tr style=\"text-align: right;\">\n",
       "      <th>smoker</th>\n",
       "      <th>No</th>\n",
       "      <th>Yes</th>\n",
       "    </tr>\n",
       "    <tr>\n",
       "      <th>sex</th>\n",
       "      <th></th>\n",
       "      <th></th>\n",
       "    </tr>\n",
       "  </thead>\n",
       "  <tbody>\n",
       "    <tr>\n",
       "      <th>Female</th>\n",
       "      <td>62.07</td>\n",
       "      <td>37.93</td>\n",
       "    </tr>\n",
       "    <tr>\n",
       "      <th>Male</th>\n",
       "      <td>61.78</td>\n",
       "      <td>38.22</td>\n",
       "    </tr>\n",
       "  </tbody>\n",
       "</table>\n",
       "</div>"
      ],
      "text/plain": [
       "smoker     No    Yes\n",
       "sex                 \n",
       "Female  62.07  37.93\n",
       "Male    61.78  38.22"
      ]
     },
     "execution_count": 34,
     "metadata": {},
     "output_type": "execute_result"
    }
   ],
   "source": [
    "df = (tips\n",
    "      .groupby(\"sex\")[\"smoker\"]\n",
    "      .value_counts(normalize=True)\n",
    "      .mul(100)\n",
    "      .round(2)\n",
    "      .unstack())\n",
    "\n",
    "df"
   ]
  },
  {
   "cell_type": "markdown",
   "metadata": {},
   "source": [
    "### Using Matplotlib [style]"
   ]
  },
  {
   "cell_type": "code",
   "execution_count": 35,
   "metadata": {},
   "outputs": [
    {
     "data": {
      "text/plain": [
       "<BarContainer object of 2 artists>"
      ]
     },
     "execution_count": 35,
     "metadata": {},
     "output_type": "execute_result"
    },
    {
     "data": {
      "image/png": "[encoded data removed]",
      "text/plain": [
       "<Figure size 864x432 with 1 Axes>"
      ]
     },
     "metadata": {
      "needs_background": "light"
     },
     "output_type": "display_data"
    }
   ],
   "source": [
    "fig, ax = plt.subplots(figsize = (12,6))\n",
    "\n",
    "ax.bar(df.index, df[\"No\"], label = \"No\", width = 0.3) # below that noting to allocate\n",
    "ax.bar(df.index, df[\"Yes\"], bottom = df.No, label = \"Yes\", width = 0.3) # below that the height should be allocated for Country\n",
    "\n",
    "# ax.set_xticks(df.index)"
   ]
  },
  {
   "cell_type": "markdown",
   "metadata": {},
   "source": [
    "#### Stacked barplot customisation"
   ]
  },
  {
   "cell_type": "code",
   "execution_count": 36,
   "metadata": {},
   "outputs": [
    {
     "data": {
      "text/plain": [
       "[<BarContainer object of 2 artists>, <BarContainer object of 2 artists>]"
      ]
     },
     "execution_count": 36,
     "metadata": {},
     "output_type": "execute_result"
    }
   ],
   "source": [
    "# Check for containers\n",
    "ax.containers"
   ]
  },
  {
   "cell_type": "code",
   "execution_count": 37,
   "metadata": {},
   "outputs": [
    {
     "name": "stdout",
     "output_type": "stream",
     "text": [
      "<BarContainer object of 2 artists>\n",
      "<BarContainer object of 2 artists>\n"
     ]
    }
   ],
   "source": [
    "# Print what containter 0 and 1 have\n",
    "print(ax.containers[0])\n",
    "print(ax.containers[1])"
   ]
  },
  {
   "cell_type": "code",
   "execution_count": 38,
   "metadata": {},
   "outputs": [
    {
     "name": "stdout",
     "output_type": "stream",
     "text": [
      "Rectangle(xy=(-0.15, 0), width=0.3, height=62.07, angle=0)\n",
      "Rectangle(xy=(0.85, 0), width=0.3, height=61.78, angle=0)\n",
      "Rectangle(xy=(-0.15, 62.07), width=0.3, height=37.93, angle=0)\n",
      "Rectangle(xy=(0.85, 61.78), width=0.3, height=38.22, angle=0)\n"
     ]
    }
   ],
   "source": [
    "# Accessing what each container holds\n",
    "print(ax.containers[0][0])\n",
    "print(ax.containers[0][1])\n",
    "print(ax.containers[1][0])\n",
    "print(ax.containers[1][1])"
   ]
  },
  {
   "cell_type": "code",
   "execution_count": 39,
   "metadata": {},
   "outputs": [
    {
     "name": "stdout",
     "output_type": "stream",
     "text": [
      "Rectangle(xy=(-0.15, 0), width=0.3, height=62.07, angle=0)\n",
      "Rectangle(xy=(0.85, 0), width=0.3, height=61.78, angle=0)\n",
      "Rectangle(xy=(-0.15, 62.07), width=0.3, height=37.93, angle=0)\n",
      "Rectangle(xy=(0.85, 61.78), width=0.3, height=38.22, angle=0)\n"
     ]
    }
   ],
   "source": [
    "# Access what each containers contain using for loop\n",
    "for c in ax.containers:\n",
    "    for v in c:\n",
    "        print(v)"
   ]
  },
  {
   "cell_type": "code",
   "execution_count": 40,
   "metadata": {},
   "outputs": [
    {
     "name": "stdout",
     "output_type": "stream",
     "text": [
      "62.07\n",
      "61.78\n",
      "37.93\n",
      "38.22\n"
     ]
    }
   ],
   "source": [
    "# Accessing the heights from each rectangle\n",
    "for c in ax.containers:\n",
    "    for v in c:\n",
    "        print(v.get_height().round(2))"
   ]
  },
  {
   "cell_type": "code",
   "execution_count": 41,
   "metadata": {},
   "outputs": [
    {
     "name": "stdout",
     "output_type": "stream",
     "text": [
      "[62.07, 61.78]\n",
      "[37.93, 38.22]\n"
     ]
    }
   ],
   "source": [
    "# Looping and printing each container object's height\n",
    "for c in ax.containers:\n",
    "    # Optional: if the segment is small or 0, customize the labels\n",
    "    print([round(v.get_height(), 2) if v.get_height() > 0 else '' for v in c])"
   ]
  },
  {
   "cell_type": "markdown",
   "metadata": {},
   "source": [
    "### Adding labels, removing spines, modifying axes labels and legend "
   ]
  },
  {
   "cell_type": "code",
   "execution_count": 42,
   "metadata": {},
   "outputs": [
    {
     "data": {
      "image/png": "[encoded data removed]",
      "text/plain": [
       "<Figure size 864x432 with 1 Axes>"
      ]
     },
     "execution_count": 42,
     "metadata": {},
     "output_type": "execute_result"
    }
   ],
   "source": [
    "# Add labels\n",
    "for c in ax.containers:\n",
    "    labels = [str(round(v.get_height(), 2)) + \"%\" if v.get_height() > 0 else '' for v in c]\n",
    "    ax.bar_label(c,\n",
    "                 label_type='center',\n",
    "                 labels = labels,\n",
    "                 size = 14) # add a container object \"c\" as first argument\n",
    "\n",
    "# Remove spines\n",
    "for s in [\"top\", \"right\"]:\n",
    "    ax.spines[s].set_visible(False)\n",
    "\n",
    "# Add labels\n",
    "ax.tick_params(labelsize = 14, labelrotation = 0)\n",
    "ax.set_ylabel(\"Percentage\", size = 14)\n",
    "ax.set_xlabel(\"Sex\", size = 14)\n",
    "\n",
    "# Add legend\n",
    "ax.legend(labels = [\"no\", \"yes\"],\n",
    "          fontsize = 12,\n",
    "          title = \"Smoker\",\n",
    "          title_fontsize = 18,\n",
    "          bbox_to_anchor = [0.55, 0.7])\n",
    "\n",
    "# Fix legend position\n",
    "# ax.legend_.set_bbox_to_anchor([0.55, 0.7])\n",
    "\n",
    "fig"
   ]
  },
  {
   "cell_type": "code",
   "execution_count": 43,
   "metadata": {},
   "outputs": [],
   "source": [
    "# Save figure\n",
    "fig.savefig(\"images/stackedbarplot.png\", dpi = 300)"
   ]
  },
  {
   "cell_type": "markdown",
   "metadata": {},
   "source": [
    "### Stacked barplot `with pandas DataFrame` [pandas plot method]"
   ]
  },
  {
   "cell_type": "code",
   "execution_count": 44,
   "metadata": {},
   "outputs": [
    {
     "data": {
      "text/html": [
       "<div>\n",
       "<style scoped>\n",
       "    .dataframe tbody tr th:only-of-type {\n",
       "        vertical-align: middle;\n",
       "    }\n",
       "\n",
       "    .dataframe tbody tr th {\n",
       "        vertical-align: top;\n",
       "    }\n",
       "\n",
       "    .dataframe thead th {\n",
       "        text-align: right;\n",
       "    }\n",
       "</style>\n",
       "<table border=\"1\" class=\"dataframe\">\n",
       "  <thead>\n",
       "    <tr style=\"text-align: right;\">\n",
       "      <th>smoker</th>\n",
       "      <th>No</th>\n",
       "      <th>Yes</th>\n",
       "    </tr>\n",
       "    <tr>\n",
       "      <th>sex</th>\n",
       "      <th></th>\n",
       "      <th></th>\n",
       "    </tr>\n",
       "  </thead>\n",
       "  <tbody>\n",
       "    <tr>\n",
       "      <th>Female</th>\n",
       "      <td>62.07</td>\n",
       "      <td>37.93</td>\n",
       "    </tr>\n",
       "    <tr>\n",
       "      <th>Male</th>\n",
       "      <td>61.78</td>\n",
       "      <td>38.22</td>\n",
       "    </tr>\n",
       "  </tbody>\n",
       "</table>\n",
       "</div>"
      ],
      "text/plain": [
       "smoker     No    Yes\n",
       "sex                 \n",
       "Female  62.07  37.93\n",
       "Male    61.78  38.22"
      ]
     },
     "execution_count": 44,
     "metadata": {},
     "output_type": "execute_result"
    }
   ],
   "source": [
    "df"
   ]
  },
  {
   "cell_type": "code",
   "execution_count": 45,
   "metadata": {},
   "outputs": [
    {
     "data": {
      "text/plain": [
       "<AxesSubplot:xlabel='sex'>"
      ]
     },
     "execution_count": 45,
     "metadata": {},
     "output_type": "execute_result"
    },
    {
     "data": {
      "image/png": "[encoded data removed]",
      "text/plain": [
       "<Figure size 864x432 with 1 Axes>"
      ]
     },
     "metadata": {
      "needs_background": "light"
     },
     "output_type": "display_data"
    }
   ],
   "source": [
    "fig, ax = plt.subplots(figsize = (12, 6))\n",
    "\n",
    "# Plot\n",
    "df.plot(kind = \"bar\",\n",
    "        stacked = True,\n",
    "        ax = ax,\n",
    "        width = 0.3,\n",
    "        edgecolor = \"black\")"
   ]
  },
  {
   "cell_type": "code",
   "execution_count": 46,
   "metadata": {},
   "outputs": [
    {
     "data": {
      "text/plain": [
       "<AxesSubplot:xlabel='sex'>"
      ]
     },
     "execution_count": 46,
     "metadata": {},
     "output_type": "execute_result"
    },
    {
     "data": {
      "image/png": "[encoded data removed]",
      "text/plain": [
       "<Figure size 864x432 with 1 Axes>"
      ]
     },
     "metadata": {
      "needs_background": "light"
     },
     "output_type": "display_data"
    }
   ],
   "source": [
    "# OR\n",
    "\n",
    "fig, ax = plt.subplots(figsize = (12, 6))\n",
    "\n",
    "# Plot\n",
    "df.plot.bar(stacked = True,\n",
    "            ax = ax,\n",
    "            width = 0.3,\n",
    "            edgecolor = \"black\")"
   ]
  },
  {
   "cell_type": "markdown",
   "metadata": {},
   "source": [
    "### Customising barplot"
   ]
  },
  {
   "cell_type": "code",
   "execution_count": 48,
   "metadata": {},
   "outputs": [
    {
     "data": {
      "image/png": "[encoded data removed]",
      "text/plain": [
       "<Figure size 864x432 with 1 Axes>"
      ]
     },
     "execution_count": 48,
     "metadata": {},
     "output_type": "execute_result"
    }
   ],
   "source": [
    "# Add labels\n",
    "for c in ax.containers:\n",
    "    labels = [str(round(v.get_height(), 2)) + \"%\" if v.get_height() > 0 else '' for v in c]\n",
    "    ax.bar_label(c,\n",
    "                 label_type='center',\n",
    "                 labels = labels,\n",
    "                 size = 14) # add a container object \"c\" as first argument\n",
    "\n",
    "# Remove spines\n",
    "for s in [\"top\", \"right\"]:\n",
    "    ax.spines[s].set_visible(False)\n",
    "\n",
    "# Add labels\n",
    "ax.tick_params(labelsize = 14, labelrotation = 0)\n",
    "ax.set_ylabel(\"Percentage\", size = 14)\n",
    "ax.set_xlabel(\"Sex\", size = 14)\n",
    "\n",
    "# Add legend\n",
    "ax.legend(labels = [\"no\", \"yes\"],\n",
    "          fontsize = 12,\n",
    "          title = \"Smoker\",\n",
    "          title_fontsize = 18)\n",
    "\n",
    "# Fix legend position\n",
    "ax.legend_.set_bbox_to_anchor([0.55, 0.7])\n",
    "\n",
    "fig"
   ]
  },
  {
   "cell_type": "code",
   "execution_count": null,
   "metadata": {},
   "outputs": [],
   "source": []
  }
 ],
 "metadata": {
  "kernelspec": {
   "display_name": "Python 3.9.12 ('datascience')",
   "language": "python",
   "name": "python3"
  },
  "language_info": {
   "codemirror_mode": {
    "name": "ipython",
    "version": 3
   },
   "file_extension": ".py",
   "mimetype": "text/x-python",
   "name": "python",
   "nbconvert_exporter": "python",
   "pygments_lexer": "ipython3",
   "version": "3.9.12"
  },
  "orig_nbformat": 4,
  "vscode": {
   "interpreter": {
    "hash": "2b0682c63ccf40119d03593b7cd5298f348ffaf8e13faf844cf14e5e4e7e25a8"
   }
  }
 },
 "nbformat": 4,
 "nbformat_minor": 2
}
